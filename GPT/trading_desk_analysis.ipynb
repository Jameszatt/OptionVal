{
 "cells": [
  {
   "cell_type": "code",
   "execution_count": null,
   "id": "49618ab5",
   "metadata": {},
   "outputs": [],
   "source": [
    "from data.market_data import fetch_close\n",
    "from utils.discount_curve import build_discount_curve\n",
    "from utils.vol_surface import build_vol_surface\n",
    "from derivatives.equity_call import EuropeanCall\n",
    "from derivatives.equity_put import AmericanPut\n",
    "from derivatives.barrier_option import UpAndInBarrierCall\n",
    "from derivatives.basket_option import BasketCall\n",
    "from hedging.portfolio_hedge import compute_portfolio_greeks\n",
    "\n",
    "# 1. Set evaluation date\n",
    "# 2. Fetch data\n",
    "# 3. Build curves and surfaces\n",
    "# 4. Instantiate and price options\n",
    "# 5. Compute hedges"
   ]
  }
 ],
 "metadata": {
  "language_info": {
   "name": "python"
  }
 },
 "nbformat": 4,
 "nbformat_minor": 5
}
